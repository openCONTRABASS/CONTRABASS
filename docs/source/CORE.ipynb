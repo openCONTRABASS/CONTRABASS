{
 "cells": [
  {
   "cell_type": "markdown",
   "metadata": {},
   "source": [
    "## 8. Low Level API\n"
   ]
  },
  {
   "cell_type": "markdown",
   "metadata": {},
   "source": [
    "### Try it with Binder\n",
    "\n",
    "Recall you can also try these examples with [Binder](https://mybinder.org/v2/gh/openCONTRABASS/CONTRABASS/HEAD?labpath=docs%2Fsource%2FCORE.ipynb)."
   ]
  },
  {
   "cell_type": "markdown",
   "metadata": {},
   "source": [
    "### 1. core"
   ]
  },
  {
   "cell_type": "markdown",
   "metadata": {},
   "source": [
    "#### Import core modules\n",
    "\n",
    "In order to use **contrabass** library you have to import the following core module."
   ]
  },
  {
   "cell_type": "code",
   "execution_count": 1,
   "metadata": {},
   "outputs": [],
   "source": [
    "from contrabass.core import CobraMetabolicModel"
   ]
  },
  {
   "cell_type": "markdown",
   "metadata": {},
   "source": [
    "#### Download example model\n",
    "\n",
    "Download a genome-scale model on which vulnerabilitites will be computed.    \n",
    "This downloads 'Staphylococcus aureus' model and saves it to 'aureus.xml' file. "
   ]
  },
  {
   "cell_type": "code",
   "execution_count": 8,
   "metadata": {},
   "outputs": [
    {
     "data": {
      "text/plain": [
       "('aureus.xml', <http.client.HTTPMessage at 0x7f21ef540510>)"
      ]
     },
     "execution_count": 8,
     "metadata": {},
     "output_type": "execute_result"
    }
   ],
   "source": [
    "import urllib.request\n",
    "\n",
    "FILE = \"aureus.xml\"\n",
    "MODEL_URL = 'https://raw.githubusercontent.com/openCONTRABASS/CONTRABASS/main/docs/source/aureus.xml'\n",
    "\n",
    "urllib.request.urlretrieve(MODEL_URL, FILE)"
   ]
  },
  {
   "cell_type": "markdown",
   "metadata": {},
   "source": [
    "#### Read metabolic model\n",
    "\n",
    "Read input metabolic model in [Systems Biology Markup Language (SBML)](http://sbml.org) format. SBML is an XML-based standard for systems biology model's exchange.\n",
    "\n",
    "Allowed file formats are:\n",
    "* xml\n",
    "* json\n",
    "* yml"
   ]
  },
  {
   "cell_type": "code",
   "execution_count": 7,
   "metadata": {},
   "outputs": [],
   "source": [
    "model = CobraMetabolicModel(\"aureus.xml\")"
   ]
  },
  {
   "cell_type": "markdown",
   "metadata": {},
   "source": [
    "#### Get model info\n"
   ]
  },
  {
   "cell_type": "markdown",
   "metadata": {},
   "source": [
    "The following methods allow us to print on the command line data from the model."
   ]
  },
  {
   "cell_type": "markdown",
   "metadata": {},
   "source": [
    "##### Model info\n"
   ]
  },
  {
   "cell_type": "code",
   "execution_count": 3,
   "metadata": {},
   "outputs": [
    {
     "name": "stdout",
     "output_type": "stream",
     "text": [
      "MODEL INFO\n",
      "-------------------------------------------------------\n",
      "MODEL:  MODEL1507180070\n",
      "REACTIONS:  743\n",
      "METABOLITES:  655\n",
      "GENES:  619\n",
      "COMPARTMENTS:  c\n",
      "               e\n",
      "\n"
     ]
    }
   ],
   "source": [
    "model.print_model_info()"
   ]
  },
  {
   "cell_type": "markdown",
   "metadata": {},
   "source": [
    "##### Metabolites\n"
   ]
  },
  {
   "cell_type": "code",
   "execution_count": 4,
   "metadata": {
    "scrolled": true
   },
   "outputs": [
    {
     "name": "stdout",
     "output_type": "stream",
     "text": [
      "MODEL:  MODEL1507180070  - NUMBER OF METABOLITES:  655\n",
      "METABOLITE  |  COMPARTMENT      |  REACTION ID\n",
      "-------------------------------------------------------\n",
      "10fthf_c    |  c                |  MTHFC\n",
      "            |                   |  biomass_SA_7b\n",
      "            |                   |  GARFT\n",
      "            |                   |  biomass_SA_8a\n",
      "            |                   |  FTHFL\n",
      "            |                   |  biomass_SA_7a\n",
      "            |                   |  AICART\n",
      "12dgr_EC_c  |  c                |  biomass_SA_3a\n",
      "            |                   |  biomass_SA_lipids_only\n",
      "            |                   |  biomass_SA_2a\n",
      "            |                   |  biomass_SA_3b\n",
      "            |            "
     ]
    },
    {
     "data": {
      "text/html": [
       "* * *"
      ]
     },
     "metadata": {},
     "output_type": "display_data"
    }
   ],
   "source": [
    "model.print_metabolites()"
   ]
  },
  {
   "cell_type": "markdown",
   "metadata": {},
   "source": [
    "##### Reactions\n"
   ]
  },
  {
   "cell_type": "code",
   "execution_count": 5,
   "metadata": {},
   "outputs": [
    {
     "name": "stdout",
     "output_type": "stream",
     "text": [
      "MODEL:  MODEL1507180070  - NUMBER OF REACTIONS:  743\n",
      "REACTION ID | UPPER BOUND | LOWER BOUND | REACTION\n",
      "-------------------------------------------------------\n",
      "3M2OBLOXRD  |   999999.0  |  -999999.0  |  3mob_c + h_c + lpam_c <=> 2mpdhl_c + co2_c\n",
      "3M2OPLOXRD  |   999999.0  |  -999999.0  |  3mop_c + h_c + lpam_c <=> 2mbdhl_c + co2_c\n",
      "4M2OPLOXRD  |   999999.0  |  -999999.0  |  4mop_c + h_c + lpam_c <=> 3mbdhl_c + co2_c\n",
      "6PGALSZ     |   999999.0  |  0.0        |  h2o_c + lac6p_c --> dgal6p_c + glc_DASH_D_c\n",
      "6PHBG       |   999999.0  |  0.0        |  h2o_c + salc6p_c --> 2hymeph_c + g6p_c\n",
      "ABTAr       |   999999.0  |  0.0        |  4abut_c + akg_c --> glu_DASH_L_c + sucsal_c\n",
      "ACACT1r     |   999999.0  "
     ]
    },
    {
     "data": {
      "text/html": [
       "* * *"
      ]
     },
     "metadata": {},
     "output_type": "display_data"
    }
   ],
   "source": [
    "model.print_reactions()"
   ]
  },
  {
   "cell_type": "markdown",
   "metadata": {},
   "source": [
    "##### Genes\n"
   ]
  },
  {
   "cell_type": "code",
   "execution_count": 6,
   "metadata": {},
   "outputs": [
    {
     "name": "stdout",
     "output_type": "stream",
     "text": [
      "MODEL:  MODEL1507180070  - NUMBER OF GENES:  619\n",
      "GENE ID     |  GENE NAME   |  REACTION ID |  GPR RELATION\n",
      "-------------------------------------------------------\n",
      "SA0008      |  SA0008      |  HISDr       |  SA0008         \n",
      "SA0009      |  SA0009      |  SERTRS      |  SA0009         \n",
      "SA0011      |  SA0011      |  HSERTA      |  SA0011         \n",
      "SA0016      |  SA0016      |  ADSS        |  SA0016         \n",
      "SA0036      |  SA0036      |  GPDDA2      |  SA0036 or SA0820 or SA1542 or SA0969 or SA0220\n",
      "            |              |  GPDDA5      |  SA0036 or SA0820 or SA1542 or SA0969 or SA0220\n",
      "            |              |  GPDDA4      |  SA0036 or SA0820 or SA1542 or SA0969 or SA0220\n",
      "            |    "
     ]
    },
    {
     "data": {
      "text/html": [
       "* * *"
      ]
     },
     "metadata": {},
     "output_type": "display_data"
    }
   ],
   "source": [
    "model.print_genes()"
   ]
  },
  {
   "cell_type": "markdown",
   "metadata": {},
   "source": [
    "#### Dead-end metabolites\n",
    "\n",
    "[Dead-end metabolites](https://journals.plos.org/plosone/article?id=10.1371/journal.pone.0075210) are those metabolites which are not consumed or not produced by any reaction of a given compartment of the model, including exchange reactions."
   ]
  },
  {
   "cell_type": "markdown",
   "metadata": {},
   "source": [
    "##### Finding Dead-end metabolites\n",
    "\n",
    "Dead-end metabolites of the model are calculated with the method ```find_dem()```. Method ```dem()``` returns a python [dict](https://docs.python.org/2/tutorial/datastructures.html#dictionaries) with the following content:   \n",
    "- **key**: string with compartment name.   \n",
    "- **value**: list with [cobra.core.metabolites](https://cobrapy.readthedocs.io/en/latest/getting_started.html#Metabolites)."
   ]
  },
  {
   "cell_type": "code",
   "execution_count": 7,
   "metadata": {
    "scrolled": false
   },
   "outputs": [
    {
     "data": {
      "text/plain": [
       "{'c': [<Metabolite uppg1_c at 0x7f288f6b0110>,\n",
       "  <Metabolite mi1p_DASH_D_c at 0x7f288f67a110>,\n",
       "  <Metabolite malm_c at 0x7f288f6741d0>,\n",
       "  <Metabolite nal2a6o_c at 0x7f288f67e250>,\n",
       "  <Metabolite ssaltpp_c at 0x7f288f69e390>,\n",
       "  <Metabolite trnaala_c at 0x7f288f6a43d0>,\n",
       "  <Metabolite trnaarg_c at 0x7f288f6a44d0>,\n",
       "  <Metabolite adcobdam_c at 0x7f2858f96510>,\n",
       "  <Metabolite trnaasn_c at 0x7f288f6a4590>,\n",
       "  <Metabolite 2ombz_c at 0x7f2858fe2610>,\n",
       "  <Metabolite trnaasp_c at 0x7f288f6a4650>,\n",
       "  <Metabolite trnacys_c at 0x7f288f6a4750>,\n",
       "  <Metabolite pala_SA_c at 0x7f28b43a8810>,\n",
       "  <Metabolite 2pglyc_c at 0x7f2858fe28d0>,\n",
       "  <Metabolite trnagly_c at 0x7f288f6a48d0>,\n",
       "  <Metabolite sucr_c at 0x7f288f69e8d0"
      ]
     },
     "execution_count": 7,
     "metadata": {},
     "output_type": "execute_result"
    },
    {
     "data": {
      "text/html": [
       "* * *"
      ]
     },
     "metadata": {},
     "output_type": "display_data"
    }
   ],
   "source": [
    "model.find_dem()\n",
    "model.dem()"
   ]
  },
  {
   "cell_type": "markdown",
   "metadata": {},
   "source": [
    "Dead-end metabolites can be printed on the command line with ```print_dem()``` method."
   ]
  },
  {
   "cell_type": "code",
   "execution_count": 8,
   "metadata": {},
   "outputs": [
    {
     "name": "stdout",
     "output_type": "stream",
     "text": [
      "MODEL:  MODEL1507180070  - NUMBER OF DEM:  2  - COMPARTMENT:  ALL\n",
      "METABOLITE  |  COMPARTMENT      |  REACTION ID\n",
      "-------------------------------------------------------\n",
      "uppg1_c     |  c                |  UPPDC2\n",
      "mi1p_DASH_D_c  |  c                |  MI1PP\n",
      "malm_c      |  c                |  PYRZAM\n",
      "nal2a6o_c   |  c                |  NALN6\n",
      "ssaltpp_c   |  c                |  SHCHCS2\n",
      "trnaala_c   |  c                |  ALATRS\n",
      "trnaarg_c   |  c                |  ARGTRS\n",
      "adcobdam_c  |  c                |  ADCYRS\n",
      "trnaasn_c   |  c                |  ASNTRS\n",
      "2ombz_c     |  c                |  URFGTT\n",
      "trnaasp_c   |  c                |  ASPTRS\n",
      "trnacys_c   |  c                |  CYSTRS\n",
      "pala_SA_c   |  c         "
     ]
    },
    {
     "data": {
      "text/html": [
       "* * *"
      ]
     },
     "metadata": {},
     "output_type": "display_data"
    }
   ],
   "source": [
    "model.print_dem()"
   ]
  },
  {
   "cell_type": "markdown",
   "metadata": {},
   "source": [
    "Printed dead-end metabolites can also be limited to a specific compartment. Available compartments are given by ```model.compartments()``` method."
   ]
  },
  {
   "cell_type": "code",
   "execution_count": 9,
   "metadata": {},
   "outputs": [
    {
     "name": "stdout",
     "output_type": "stream",
     "text": [
      "MODEL:  MODEL1507180070  - NUMBER OF DEM:  2  - COMPARTMENT:  e\n",
      "METABOLITE  |  COMPARTMENT      |  REACTION ID\n",
      "-------------------------------------------------------\n",
      "zn2_e       |  e                |  EX_zn2_e\n",
      "            |                   |  ZNabc\n",
      "spmd_e      |  e                |  EX_spmd_e\n",
      "            |                   |  SPMDabc\n",
      "salcn_e     |  e                |  EX_salcn_e\n",
      "            |                   |  SALCpts\n",
      "tre_e       |  e                |  EX_tre_e\n",
      "            |                   |  TREpts\n",
      "mn2_e       |  e                |  EX_mn2_e\n",
      "            |                   |  MNabc\n",
      "            |                   |  MNt2\n",
      "ura_e       |  e                |  URAt2\n",
      "            |      "
     ]
    },
    {
     "data": {
      "text/html": [
       "* * *"
      ]
     },
     "metadata": {},
     "output_type": "display_data"
    }
   ],
   "source": [
    "model.print_dem(compartment=\"e\")"
   ]
  },
  {
   "cell_type": "markdown",
   "metadata": {},
   "source": [
    "##### Removing dead-end metabolites\n",
    "\n",
    "Method ```remove_dem()``` removes dead-end metabolites from the model. Once dead-end metabolites are deleted, some reactions might not produce a metabolite anymore. This method deletes also these reactions and loops again until no dead-end metabolite is found:\n",
    "\n",
    "```\n",
    "    function remove_dead_end_metabolites(model)\n",
    "\n",
    "        do while previous_metabolites != current_metabolites:\n",
    "\n",
    "            previous_metabolites = model metabolites\n",
    "            delete all metabolites in find_dead_end_metabolites(model)\n",
    "            for reaction that produced or consumed dead-end metabolites:\n",
    "                if reaction produces or consumes 0 metabolites [and is not exchange nor demand]:\n",
    "                    delete reaction on model\n",
    "            current_metabolites = model metabolites\n",
    "\n",
    "        return model\n",
    "```\n",
    "    \n",
    "Reactions that are deleted with this method can be asjusted with the following params:     \n",
    "\n",
    "  - **keep_all_exchange_demand_reactions** :     \n",
    "    - True: (default): A reaction is considered exchange or demand if it initially does not produce or consume any metabolite. This means the reaction represents an input or output of the metabolic network. If the parameter is true, none of these reactions will be removed during the execution.     \n",
    "    - False: If a reaction is a [cobra boundary reaction](https://cobrapy.readthedocs.io/en/latest/media.html#Boundary-reactions) (calculated with heuristics) that reaction will not be deleted during the execution. Note that exchange or demand reactions that are not identified by the cobrapy framework as boundary reactions will be deleted.    \n",
    "  - **delete_exchange** : Caution: this parameter is only intended for closed models without exchange or demand reactions, that is, models without reactions that do not produce or do not consume one metabolites on one of its sides. Note that most models do not match this property. Note also that this type of model will always yield 0 with Flux Balance Analysis.     \n",
    "    - True: all the reactions that produce or consume 0 metabolites are deleted whether they are exchange/demand or not.     \n",
    "    - False: (default) deleted according to 'keep_all_incomplete_reactions' param.     "
   ]
  },
  {
   "cell_type": "code",
   "execution_count": 10,
   "metadata": {},
   "outputs": [
    {
     "name": "stdout",
     "output_type": "stream",
     "text": [
      "Metabolites:  655 \n",
      "Reactions:  743\n"
     ]
    }
   ],
   "source": [
    "print(\"Metabolites: \", len(model.metabolites()), \"\\nReactions: \", len(model.reactions()))\n"
   ]
  },
  {
   "cell_type": "code",
   "execution_count": 11,
   "metadata": {},
   "outputs": [],
   "source": [
    "model.remove_dem()"
   ]
  },
  {
   "cell_type": "code",
   "execution_count": 12,
   "metadata": {
    "scrolled": true
   },
   "outputs": [
    {
     "name": "stdout",
     "output_type": "stream",
     "text": [
      "Metabolites:  486 \n",
      "Reactions:  739\n"
     ]
    }
   ],
   "source": [
    "print(\"Metabolites: \", len(model.metabolites()), \"\\nReactions: \", len(model.reactions()))\n"
   ]
  },
  {
   "cell_type": "markdown",
   "metadata": {},
   "source": [
    "#### Dead reactions\n",
    "\n",
    "Dead reactions are those reactions with upper and lower flux equal to zero.\n",
    "\n",
    "##### Finding Dead reactions\n",
    "\n",
    "Dead reactions of the model are calculated with method ```dead_reactions()```, which returns a list of [cobra.core.reactions](https://cobrapy.readthedocs.io/en/latest/getting_started.html#Reactions) representing dead reactions."
   ]
  },
  {
   "cell_type": "code",
   "execution_count": 13,
   "metadata": {},
   "outputs": [
    {
     "data": {
      "text/plain": [
       "[<Reaction SA_biomass_1a at 0x7f288f110ad0>,\n",
       " <Reaction biomass_SA_2a at 0x7f288f06c750>,\n",
       " <Reaction biomass_SA_2b at 0x7f288f06c2d0>,\n",
       " <Reaction biomass_SA_3a at 0x7f288f06c810>,\n",
       " <Reaction biomass_SA_3b at 0x7f288f06cf90>,\n",
       " <Reaction biomass_SA_4a at 0x7f288eff60d0>,\n",
       " <Reaction biomass_SA_5a at 0x7f288eff6050>,\n",
       " <Reaction biomass_SA_6a at 0x7f288eff6fd0>,\n",
       " <Reaction biomass_SA_6b at 0x7f288f06cd50>,\n",
       " <Reaction biomass_SA_7a at 0x7f288f01de90>,\n",
       " <Reaction biomass_SA_7b at 0x7f288f01df10>,\n",
       " <Reaction biomass_SA_lipids_only at 0x7f288f06cc10>,\n",
       " <Reaction biomass_SA_nuc_only at 0x7f288f06c7d0>,\n",
       " <Reaction biomass_SA_only_AA at 0x7f288f06c690>]"
      ]
     },
     "execution_count": 13,
     "metadata": {},
     "output_type": "execute_result"
    }
   ],
   "source": [
    "model.dead_reactions()"
   ]
  },
  {
   "cell_type": "markdown",
   "metadata": {},
   "source": [
    "#### Chokepoint reactions\n",
    "\n",
    "[Chokepoint reactions](https://www.ncbi.nlm.nih.gov/pmc/articles/PMC2174424/) are those reactions that are the only consumer or producer of a given metabolite that is not a dead-end metabolite. "
   ]
  },
  {
   "cell_type": "markdown",
   "metadata": {},
   "source": [
    "##### Finding chokepoint reactions\n",
    "\n",
    "Chokepoint reactions are calculated with method ```find_chokepoints()```.    \n",
    "Method ```chokepoints()``` returns a list of tuples of types ([cobra.core.reactions](https://cobrapy.readthedocs.io/en/latest/getting_started.html#Reactions), [cobra.core.metabolites](https://cobrapy.readthedocs.io/en/latest/getting_started.html#Metabolites)) representing chokepoint reactions and the metabolite of which they are the only consumer/producer."
   ]
  },
  {
   "cell_type": "code",
   "execution_count": 14,
   "metadata": {
    "scrolled": true
   },
   "outputs": [
    {
     "data": {
      "text/plain": [
       "[(<Reaction PAPA_SA at 0x7f288ec42750>,\n",
       "  <Metabolite 12dgr_SA_c at 0x7f288f683790>),\n",
       " (<Reaction PROD2 at 0x7f288f4637d0>, <Metabolite 1pyr5c_c at 0x7f2858f9da50>),\n",
       " (<Reaction DHDPRy at 0x7f288ee48a50>,\n",
       "  <Metabolite 23dhdp_c at 0x7f288f67a150>),\n",
       " (<Reaction DHDPS at 0x7f288ee48a90>, <Metabolite 23dhdp_c at 0x7f288f67a150>),\n",
       " (<Reaction DHAD1 at 0x7f288ee48cd0>, <Metabolite 23dhmb_c at 0x7f288f67a350>),\n",
       " (<Reaction KARA1i at 0x7f288edae690>,\n",
       "  <Metabolite 23dhmb_c at 0x7f288f67a350>),\n",
       " (<Reaction DHAD2 at 0x7f288ee48910>, <Metabolite 23dhmp_c at 0x7f288f67a750>),\n",
       " (<Reaction KARA2i at 0x7f288edae890>,\n",
       "  <Metabolite 23dhmp_c at 0x7f288f67a750>),\n",
       " (<Reaction DHPPDA at 0x7f288ee4bcd0>,\n",
       "  <Met"
      ]
     },
     "execution_count": 14,
     "metadata": {},
     "output_type": "execute_result"
    },
    {
     "data": {
      "text/html": [
       "* * *"
      ]
     },
     "metadata": {},
     "output_type": "display_data"
    }
   ],
   "source": [
    "# Read initial model again\n",
    "model = CobraMetabolicModel(\"aureus.xml\")\n",
    "\n",
    "model.find_chokepoints()\n",
    "model.chokepoints()"
   ]
  },
  {
   "cell_type": "markdown",
   "metadata": {},
   "source": [
    "Dead reactions can be excluded from the computation of chokepoints with parameter ```exclude_dead_reactions=True```. This is strongly suggested as dead reactions are considered forward reactions by default an this can lead to misinterpretations."
   ]
  },
  {
   "cell_type": "code",
   "execution_count": 15,
   "metadata": {},
   "outputs": [
    {
     "data": {
      "text/plain": [
       "[(<Reaction PAPA_SA at 0x7f288ec42750>,\n",
       "  <Metabolite 12dgr_SA_c at 0x7f288f683790>),\n",
       " (<Reaction PROD2 at 0x7f288f4637d0>, <Metabolite 1pyr5c_c at 0x7f2858f9da50>),\n",
       " (<Reaction DHDPRy at 0x7f288ee48a50>,\n",
       "  <Metabolite 23dhdp_c at 0x7f288f67a150>),\n",
       " (<Reaction DHDPS at 0x7f288ee48a90>, <Metabolite 23dhdp_c at 0x7f288f67a150>),\n",
       " (<Reaction DHAD1 at 0x7f288ee48cd0>, <Metabolite 23dhmb_c at 0x7f288f67a350>),\n",
       " (<Reaction KARA1i at 0x7f288edae690>,\n",
       "  <Metabolite 23dhmb_c at 0x7f288f67a350>),\n",
       " (<Reaction DHAD2 at 0x7f288ee48910>, <Metabolite 23dhmp_c at 0x7f288f67a750>),\n",
       " (<Reaction KARA2i at 0x7f288edae890>,\n",
       "  <Metabolite 23dhmp_c at 0x7f288f67a750>),\n",
       " (<Reaction DHPPDA at 0x7f288ee4bcd0>,\n",
       "  <Met"
      ]
     },
     "execution_count": 15,
     "metadata": {},
     "output_type": "execute_result"
    },
    {
     "data": {
      "text/html": [
       "* * *"
      ]
     },
     "metadata": {},
     "output_type": "display_data"
    }
   ],
   "source": [
    "model.find_chokepoints(exclude_dead_reactions=True)\n",
    "model.chokepoints()"
   ]
  },
  {
   "cell_type": "markdown",
   "metadata": {},
   "source": [
    "Chokepoint reactions can also be printed on the command line with ```print_chokepoints```."
   ]
  },
  {
   "cell_type": "code",
   "execution_count": 16,
   "metadata": {},
   "outputs": [
    {
     "name": "stdout",
     "output_type": "stream",
     "text": [
      "MODEL:  MODEL1507180070  - NUMBER OF CHOKEPOINTS:  448\n",
      "METABOLITE ID |  METABOLITE NAME                           | REACTION ID | REACTION NAME\n",
      "------------------------------------------------------------\n",
      "12dgr_SA_c    |  1,2-Daicylglycerol (Saureus)              |  PAPA_SA    |  Phosphatidate phosphatase\n",
      "1pyr5c_c      |  1-Pyrroline-5-carboxylate                 |  PROD2      |  Proline dehydrogenase\n",
      "23dhdp_c      |  2,3-Dihydrodipicolinate                   |  DHDPRy     |  dihydrodipicolinate reductase (NADPH)\n",
      "23dhdp_c      |  2,3-Dihydrodipicolinate                   |  DHDPS      |  dihydrodipicolinate synthase\n",
      "23dhmb_c      |  (R)-2,3-Dihydroxy-3-methylbutanoate       |  DHAD1      |  "
     ]
    },
    {
     "data": {
      "text/html": [
       "* * *"
      ]
     },
     "metadata": {},
     "output_type": "display_data"
    }
   ],
   "source": [
    "model.print_chokepoints()"
   ]
  },
  {
   "cell_type": "markdown",
   "metadata": {},
   "source": [
    "#### Flux Balance Analysis\n",
    "\n",
    "[Flux Balance Analysis (FBA)](https://www.ncbi.nlm.nih.gov/pmc/articles/PMC3108565/) is a mathematical procedure to estimate the fluxes of reactions in a metabolic model.\n",
    "\n",
    "Method ```get_growth()``` calculates the objective value (growth rate) that maximizes the objective function. This method uses [cobra.core.model.slim_optimize](https://cobrapy.readthedocs.io/en/latest/autoapi/cobra/core/model/index.html?highlight=slim#cobra.core.model.Model.slim_optimize) and was obtained from [cobra.flux_analysis.deletion](https://cobrapy.readthedocs.io/en/latest/_modules/cobra/flux_analysis/deletion.html#_get_growth). \n",
    "\n",
    "The objective value obtained with FBA can be accessed with ```objective_value()```."
   ]
  },
  {
   "cell_type": "code",
   "execution_count": 17,
   "metadata": {},
   "outputs": [
    {
     "data": {
      "text/plain": [
       "0.1580502916027849"
      ]
     },
     "execution_count": 17,
     "metadata": {},
     "output_type": "execute_result"
    }
   ],
   "source": [
    "model.get_growth()\n",
    "model.objective_value()"
   ]
  },
  {
   "cell_type": "markdown",
   "metadata": {},
   "source": [
    "The objective function that is maximized during FBA can be accessed with ```objective()```"
   ]
  },
  {
   "cell_type": "code",
   "execution_count": 18,
   "metadata": {},
   "outputs": [
    {
     "data": {
      "text/plain": [
       "'1.0*biomass_SA_8a - 1.0*biomass_SA_8a_reverse_4ce77'"
      ]
     },
     "execution_count": 18,
     "metadata": {},
     "output_type": "execute_result"
    }
   ],
   "source": [
    "model.objective()"
   ]
  },
  {
   "cell_type": "markdown",
   "metadata": {},
   "source": [
    "This objective function can be changed by another reaction of the model with ```set_objective()```. This method receives the id of the reaction that will be set as the new objective value."
   ]
  },
  {
   "cell_type": "code",
   "execution_count": 19,
   "metadata": {},
   "outputs": [
    {
     "data": {
      "text/plain": [
       "'1.0*DHAD1 - 1.0*DHAD1_reverse_39dca'"
      ]
     },
     "execution_count": 19,
     "metadata": {},
     "output_type": "execute_result"
    }
   ],
   "source": [
    "model.set_objective(\"DHAD1\")\n",
    "model.objective()"
   ]
  },
  {
   "cell_type": "markdown",
   "metadata": {},
   "source": [
    "#### Flux Variability Analysis\n",
    "\n",
    "[Flux Vatiability Analysis (FVA)](https://bmcbioinformatics.biomedcentral.com/articles/10.1186/1471-2105-11-489) is a mathematical procedure used to calculate the ''minimum and maximum flux for reactions in the network while maintaining some state of the network, e.g., supporting 90% of maximal possible biomass production rate''.\n",
    "\n",
    "The method ```fva()``` runs Flux Variability Analysis on the model. This method runs [cobra.flux_analysis.variability](https://cobrapy.readthedocs.io/en/latest/autoapi/cobra/flux_analysis/variability/index.html?highlight=flux_varia#cobra.flux_analysis.variability.flux_variability_analysis) and as so, it allows the same parameters (see the previous link):   \n",
    "  - **loopless**: (default False) return only loopless solutions.   \n",
    "  - **threshold**: (float default None. In cobrapy 'fraction_of_optimum'): Requires that the objective value is at least the fraction times maximum objective value.   \n",
    "  - **pfba_factor**: (float default None) the total sum of absolute fluxes must not be larger than this value times the smallest possible sum of absolute fluxes.\n",
    "\n",
    "An extra parameter:   \n",
    "  - **verbose**: (default False) if True prints on the command line the result of FVA while running the analysis.\n",
    "\n",
    "Method ```fva()``` returns an error list if there was an error while running FVA or an empty list ```[]``` otherwise. "
   ]
  },
  {
   "cell_type": "code",
   "execution_count": 20,
   "metadata": {},
   "outputs": [
    {
     "data": {
      "text/plain": [
       "[]"
      ]
     },
     "execution_count": 20,
     "metadata": {},
     "output_type": "execute_result"
    }
   ],
   "source": [
    "model.fva(threshold=0.95)"
   ]
  },
  {
   "cell_type": "code",
   "execution_count": 21,
   "metadata": {},
   "outputs": [
    {
     "name": "stdout",
     "output_type": "stream",
     "text": [
      "FLUX VARIABILITY ANALYSIS:  MODEL1507180070\n",
      "REACTION:  3-Methyl-2-oxobutanoate:lipoamide oxidoreductase(decarboxylating and acceptor-2-methylpropanoylating)\n",
      "    fva ranges:   [ 0.0        ,  0.0        ]\n",
      "REACTION:  3-Methyl-2-oxopentanoate:lipoamide oxidoreductase(decarboxylating and acceptor-2-methylpropanoylating)\n",
      "    fva ranges:   [ 0.0        ,  0.0        ]\n",
      "REACTION:  4-Methyl-2-oxopentanoate:lipoamide oxidoreductase(decarboxylating and acceptor-2-methylpropanoylating)\n",
      "    fva ranges:   [ 0.0        ,  0.0        ]\n",
      "REACTION:  6-phospho-beta-galactosidase\n",
      "    fva ranges:   [ 0.0        ,  0.0        ]\n",
      "REACTION:  6-phospho-beta-glucosidase\n",
      "    fva ranges:   [ 0.0        ,  0.0        ]\n",
      "RE"
     ]
    },
    {
     "data": {
      "text/html": [
       "* * *"
      ]
     },
     "metadata": {},
     "output_type": "display_data"
    }
   ],
   "source": [
    "model.fva(threshold=0.95, verbose=True)"
   ]
  },
  {
   "cell_type": "markdown",
   "metadata": {},
   "source": [
    "The result obtained with FVA can be accessed with ```get_fva()```. This method returns a list of tuples: ([cobra.core.reaction](https://cobrapy.readthedocs.io/en/latest/getting_started.html#Reactions), \\[float\\] maximum flux, \\[float\\] minimum flux)"
   ]
  },
  {
   "cell_type": "code",
   "execution_count": 22,
   "metadata": {},
   "outputs": [
    {
     "data": {
      "text/plain": [
       "[(<Reaction 3M2OBLOXRD at 0x7f288eeab950>, 0.0, 0.0),\n",
       " (<Reaction 3M2OPLOXRD at 0x7f288eeab990>, 0.0, 0.0),\n",
       " (<Reaction 4M2OPLOXRD at 0x7f288eeabc10>, 0.0, 0.0),\n",
       " (<Reaction 6PGALSZ at 0x7f288eeabad0>, 0.0, 0.0),\n",
       " (<Reaction 6PHBG at 0x7f288eeabb10>, 0.0, 0.0),\n",
       " (<Reaction ABTAr at 0x7f288eead890>, 0.0, 0.0),\n",
       " (<Reaction ACACT1r at 0x7f288eeadd50>,\n",
       "  0.00032511320071648854,\n",
       "  -2065.6249999999704),\n",
       " (<Reaction ACACT2r at 0x7f288eeadcd0>, 0.0, -2065.624999999973),\n",
       " (<Reaction ACACT3r at 0x7f288eead710>, 0.0, -2065.624999999973),\n",
       " (<Reaction ACACT4r at 0x7f288eead150>, 0.0, -2065.624999999973),\n",
       " (<Reaction ACACT5r at 0x7f288eeadd10>, 0.0, -2065.624999999973),\n",
       " (<Reaction ACACT6r at 0x7f288eead8"
      ]
     },
     "execution_count": 22,
     "metadata": {},
     "output_type": "execute_result"
    },
    {
     "data": {
      "text/html": [
       "* * *"
      ]
     },
     "metadata": {},
     "output_type": "display_data"
    }
   ],
   "source": [
    "model.get_fva()"
   ]
  },
  {
   "cell_type": "markdown",
   "metadata": {},
   "source": [
    "##### Updating flux of reactions with FVA\n",
    "\n",
    "**contrabass** adds an extra parameter to this method which is ```update_flux```. If ```True``` the method ```fva()``` updates the fluxes of reactions with the maximum and minimum flux values obtained with FVA (see the example below)."
   ]
  },
  {
   "cell_type": "code",
   "execution_count": 23,
   "metadata": {},
   "outputs": [
    {
     "name": "stdout",
     "output_type": "stream",
     "text": [
      "MODEL:  MODEL1507180070  - NUMBER OF REACTIONS:  743\n",
      "REACTION ID | UPPER BOUND | LOWER BOUND | REACTION\n",
      "-------------------------------------------------------\n",
      "3M2OBLOXRD  |   999999.0  |  -999999.0  |  3mob_c + h_c + lpam_c <=> 2mpdhl_c + co2_c\n",
      "3M2OPLOXRD  |   999999.0  |  -999999.0  |  3mop_c + h_c + lpam_c <=> 2mbdhl_c + co2_c\n",
      "4M2OPLOXRD  |   999999.0  |  -999999.0  |  4mop_c + h_c + lpam_c <=> 3mbdhl_c + co2_c\n",
      "6PGALSZ     |   999999.0  |  0.0        |  h2o_c + lac6p_c --> dgal6p_c + glc_DASH_D_c\n",
      "6PHBG       |   999999.0  |  0.0        |  h2o_c + salc6p_c --> 2hymeph_c + g6p_c\n",
      "ABTAr       |   999999.0  |  0.0        |  4abut_c + akg_c --> glu_DASH_L_c + sucsal_c\n",
      "ACACT1r     |   999999.0  "
     ]
    },
    {
     "data": {
      "text/html": [
       "* * *"
      ]
     },
     "metadata": {},
     "output_type": "display_data"
    }
   ],
   "source": [
    "# Print initial reactions of the model with initial flux values.\n",
    "model.print_reactions()"
   ]
  },
  {
   "cell_type": "code",
   "execution_count": 24,
   "metadata": {},
   "outputs": [
    {
     "data": {
      "text/plain": [
       "[]"
      ]
     },
     "execution_count": 24,
     "metadata": {},
     "output_type": "execute_result"
    }
   ],
   "source": [
    "# Update reactions flux values with FVA\n",
    "model.fva(update_flux=True)"
   ]
  },
  {
   "cell_type": "code",
   "execution_count": 25,
   "metadata": {
    "scrolled": false
   },
   "outputs": [
    {
     "name": "stdout",
     "output_type": "stream",
     "text": [
      "MODEL:  MODEL1507180070  - NUMBER OF REACTIONS:  743\n",
      "REACTION ID | UPPER BOUND | LOWER BOUND | REACTION\n",
      "-------------------------------------------------------\n",
      "3M2OBLOXRD  |   0.0       |  0.0        |  3mob_c + h_c + lpam_c --> 2mpdhl_c + co2_c\n",
      "3M2OPLOXRD  |   0.0       |  0.0        |  3mop_c + h_c + lpam_c --> 2mbdhl_c + co2_c\n",
      "4M2OPLOXRD  |   0.0       |  0.0        |  4mop_c + h_c + lpam_c --> 3mbdhl_c + co2_c\n",
      "6PGALSZ     |   0.0       |  0.0        |  h2o_c + lac6p_c --> dgal6p_c + glc_DASH_D_c\n",
      "6PHBG       |   0.0       |  0.0        |  h2o_c + salc6p_c --> 2hymeph_c + g6p_c\n",
      "ABTAr       |   0.0       |  0.0        |  4abut_c + akg_c --> glu_DASH_L_c + sucsal_c\n",
      "ACACT1r     |   -3.26642  "
     ]
    },
    {
     "data": {
      "text/html": [
       "* * *"
      ]
     },
     "metadata": {},
     "output_type": "display_data"
    }
   ],
   "source": [
    "# Print reactions of the model with constrained reactions flux values.\n",
    "model.print_reactions()"
   ]
  },
  {
   "cell_type": "markdown",
   "metadata": {},
   "source": [
    "#### Essential genes\n",
    "\n",
    "[Essential genes](https://link.springer.com/chapter/10.1007/978-3-642-36546-1_43) are those genes that cause a zero growth rate when knocked out.\n",
    "\n",
    "##### Finding essential genes\n",
    "\n",
    "Essential genes are calculated with the method ```find_essential_genes_1()```. This method returns an error list if there was an error during the computing or an empty list ```[]``` otherwise."
   ]
  },
  {
   "cell_type": "code",
   "execution_count": 26,
   "metadata": {
    "scrolled": true
   },
   "outputs": [
    {
     "data": {
      "text/plain": [
       "[]"
      ]
     },
     "execution_count": 26,
     "metadata": {},
     "output_type": "execute_result"
    }
   ],
   "source": [
    "model.find_essential_genes_1()"
   ]
  },
  {
   "cell_type": "markdown",
   "metadata": {},
   "source": [
    "If essential genes were computed with the method above, they can be accessed with ```essential_genes()```. This method return a list of [cobra.core.gene](https://cobrapy.readthedocs.io/en/latest/getting_started.html#Genes) with essential genes."
   ]
  },
  {
   "cell_type": "code",
   "execution_count": 27,
   "metadata": {
    "scrolled": true
   },
   "outputs": [
    {
     "data": {
      "text/plain": [
       "{<Gene SA0183 at 0x7f2858fe2b10>,\n",
       " <Gene SA0512 at 0x7f288eff6310>,\n",
       " <Gene SA0728 at 0x7f288eea6890>,\n",
       " <Gene SA0729 at 0x7f288eea6950>,\n",
       " <Gene SA0823 at 0x7f288ee87d10>,\n",
       " <Gene SA0910 at 0x7f288ee89890>,\n",
       " <Gene SA0911 at 0x7f288ee89950>,\n",
       " <Gene SA0912 at 0x7f288ee89a10>,\n",
       " <Gene SA0913 at 0x7f288ee89ad0>,\n",
       " <Gene SA0937 at 0x7f288eea5650>,\n",
       " <Gene SA0938 at 0x7f288eea5710>,\n",
       " <Gene SA0994 at 0x7f288ee8d350>,\n",
       " <Gene SA0995 at 0x7f288ee8d410>,\n",
       " <Gene SA0996 at 0x7f288ee8d4d0>,\n",
       " <Gene SA1088 at 0x7f288ee8b4d0>,\n",
       " <Gene SA1089 at 0x7f288ee8b590>,\n",
       " <Gene SA1244 at 0x7f288ee91ad0>,\n",
       " <Gene SA1245 at 0x7f288ee91b90>,\n",
       " <Gene SA1255 at 0x7f288ee91dd0>,\n",
       " <Gene SA1521 at 0x7f288ee93410>,\n",
       " <Gene SA1585 at 0x7"
      ]
     },
     "execution_count": 27,
     "metadata": {},
     "output_type": "execute_result"
    },
    {
     "data": {
      "text/html": [
       "* * *"
      ]
     },
     "metadata": {},
     "output_type": "display_data"
    }
   ],
   "source": [
    "model.essential_genes()"
   ]
  },
  {
   "cell_type": "markdown",
   "metadata": {},
   "source": [
    "#### Essential reactions\n",
    "\n",
    "Essential reactions are those genes that cause a zero growth rate when knocked out.\n",
    "\n",
    "##### Finding essential reactions\n",
    "\n",
    "Essential reactions are calculated with the method ```compute_essential_reactions()```. This method returns an error list if there was an error during the computing, or an empty list ```[]``` otherwise."
   ]
  },
  {
   "cell_type": "code",
   "execution_count": 31,
   "metadata": {},
   "outputs": [],
   "source": [
    "model.compute_essential_reactions()"
   ]
  },
  {
   "cell_type": "markdown",
   "metadata": {},
   "source": [
    "If essential reactions were computed with the method above, they can be accessed with ```essential_reactions()```. This method return a ```dict``` with keys [cobra.core.reaction](https://cobrapy.readthedocs.io/en/latest/getting_started.html#Reactions) with all the reactions of the model, and values ```float``` with the result of computing FBA with the reaction knocked-out.\n"
   ]
  },
  {
   "cell_type": "code",
   "execution_count": 32,
   "metadata": {
    "scrolled": true
   },
   "outputs": [
    {
     "data": {
      "text/plain": [
       "[<Reaction CO2t at 0x7f288ee40750>,\n",
       " <Reaction KARA1i at 0x7f288edae690>,\n",
       " <Reaction DHAD1 at 0x7f288ee48cd0>,\n",
       " <Reaction PDHcr at 0x7f288ec4cc10>,\n",
       " <Reaction EX_pro_DASH_L_e at 0x7f288edf5350>,\n",
       " <Reaction SUCOAS at 0x7f288eead690>,\n",
       " <Reaction PFK at 0x7f288ec4cf50>,\n",
       " <Reaction FBA at 0x7f288edfb3d0>,\n",
       " <Reaction AKGDa at 0x7f288ee34c90>,\n",
       " <Reaction GLCpts at 0x7f288ee25590>,\n",
       " <Reaction PGI at 0x7f288f537490>,\n",
       " <Reaction FUM at 0x7f288ee0a650>,\n",
       " <Reaction EX_co2_e at 0x7f288ee5f850>,\n",
       " <Reaction PROD2 at 0x7f288f4637d0>,\n",
       " <Reaction EX_glc_DASH_D_e at 0x7f288ee67550>,\n",
       " <Reaction ACLS at 0x7f288ee84d50>,\n",
       " <Reaction AKGDb at 0x7f288ee34d50>,\n",
       " <Reaction EX_o2_e at 0x7f288ee6dcd0>,\n",
       " <Reaction TPI a"
      ]
     },
     "execution_count": 32,
     "metadata": {},
     "output_type": "execute_result"
    },
    {
     "data": {
      "text/html": [
       "* * *"
      ]
     },
     "metadata": {},
     "output_type": "display_data"
    }
   ],
   "source": [
    "model.essential_reactions()"
   ]
  },
  {
   "cell_type": "markdown",
   "metadata": {},
   "source": [
    "#### Essential genes reactions\n",
    "\n",
    "Essential genes reactions are those reactions that are knocked-out when an essential gene is knocked-out.\n",
    "\n",
    "##### Finding essential genes reactions\n",
    "\n",
    "Essential genes reactions are calculated with the method ```find_essential_genes_reactions()```. This method returns an error list if there was an error during the computing or an empty list ```[]``` otherwise."
   ]
  },
  {
   "cell_type": "code",
   "execution_count": 33,
   "metadata": {},
   "outputs": [
    {
     "data": {
      "text/plain": [
       "[]"
      ]
     },
     "execution_count": 33,
     "metadata": {},
     "output_type": "execute_result"
    }
   ],
   "source": [
    "model.find_essential_genes_reactions()"
   ]
  },
  {
   "cell_type": "markdown",
   "metadata": {},
   "source": [
    "If essential genes reactions were computed with the method above, they can be accessed with ```essential_genes_reactions()```. This method returns a ```dict``` with keys [cobra.core.reaction](https://cobrapy.readthedocs.io/en/latest/getting_started.html#Reactions) with all the reactions of the model, and values a ```list``` of [cobra.core.genes](https://cobrapy.readthedocs.io/en/latest/getting_started.html#Genes) with the essential genes that cause the knock-out of the reaction.\n"
   ]
  },
  {
   "cell_type": "code",
   "execution_count": 34,
   "metadata": {},
   "outputs": [
    {
     "data": {
      "text/plain": [
       "{<Reaction PGK at 0x7f288f53c950>: [<Gene SA0728 at 0x7f288eea6890>],\n",
       " <Reaction CYTBD at 0x7f288ee42e90>: [<Gene SA0910 at 0x7f288ee89890>,\n",
       "  <Gene SA0911 at 0x7f288ee89950>,\n",
       "  <Gene SA0912 at 0x7f288ee89a10>,\n",
       "  <Gene SA0913 at 0x7f288ee89ad0>,\n",
       "  <Gene SA0937 at 0x7f288eea5650>,\n",
       "  <Gene SA0938 at 0x7f288eea5710>],\n",
       " <Reaction PROD2 at 0x7f288f4637d0>: [<Gene SA1585 at 0x7f288ee97110>],\n",
       " <Reaction TPI at 0x7f288eb48190>: [<Gene SA0729 at 0x7f288eea6950>],\n",
       " <Reaction DHAD2 at 0x7f288ee48910>: [<Gene SA1858 at 0x7f288ee83a10>],\n",
       " <Reaction DHAD1 at 0x7f288ee48cd0>: [<Gene SA1858 at 0x7f288ee83a10>],\n",
       " <Reaction AKGDb at 0x7f288ee34d50>: [<Gene SA1244 at 0x7f288ee91ad0>],\n",
       " <Reaction ILETA at 0x7f2"
      ]
     },
     "execution_count": 34,
     "metadata": {},
     "output_type": "execute_result"
    },
    {
     "data": {
      "text/html": [
       "* * *"
      ]
     },
     "metadata": {},
     "output_type": "display_data"
    }
   ],
   "source": [
    "model.essential_genes_reactions()"
   ]
  },
  {
   "cell_type": "markdown",
   "metadata": {},
   "source": [
    "### 2. core.Facade  core.FacadeUtils\n",
    "\n",
    "Modules ```FacadeUtils``` and ```Facade``` from ```contrabass``` provide specific methods for the generation of reports from the computation of critical reactions taking into account flux constraints."
   ]
  },
  {
   "cell_type": "markdown",
   "metadata": {},
   "source": [
    "#### Import FacadeUtils modules\n",
    "\n",
    "Import the module"
   ]
  },
  {
   "cell_type": "code",
   "execution_count": 35,
   "metadata": {},
   "outputs": [],
   "source": [
    "from contrabass.core import Facade\n",
    "from contrabass.core import FacadeUtils"
   ]
  },
  {
   "cell_type": "markdown",
   "metadata": {},
   "source": [
    "#### Generate vulnerabilities summary spreadsheet\n",
    "\n",
    "The method ```run_summary_model``` generates a spreadsheet file from a model file with the following data:    \n",
    "  - List of metabolites of the model.    \n",
    "  - List of reactions of the model.    \n",
    "  - List of genes of the model.    \n",
    "  - Upper and lower flux bound of each reaction obtained with Flux Variability Analysis.    \n",
    "  - Upper and lower flux bound of each reaction obtained with Flux Variability Analysis grouped by metabolite.   \n",
    "  - List of reversible reactions of the model before and after Flux Variability Analysis refinement (see [refinement](#Updating-flux-of-reactions-with-FVA)).    \n",
    "  - List of Dead End Metabolites before and after FVA refinement.    \n",
    "  - For the following models (each one listed along with its acronym):   \n",
    "    &nbsp;&nbsp;&nbsp;&nbsp; * (**M0**) Initial model.    \n",
    "    &nbsp;&nbsp;&nbsp;&nbsp; * (**MDEM**) Model without DEM.       \n",
    "    &nbsp;&nbsp;&nbsp;&nbsp; * (**MFVA**) Model refined with FVA.     \n",
    "    &nbsp;&nbsp;&nbsp;&nbsp; * (**MFVADEM**) Model refined with FVA and with DEM removed.    \n",
    "  - The following set of assets is computed for each and included in one sheet:   \n",
    "    &nbsp;&nbsp;&nbsp;&nbsp; * List of chokepoint reactions with the metabolite they produce/consume.    \n",
    "    &nbsp;&nbsp;&nbsp;&nbsp; * List of essential genes of the models.    \n",
    "    &nbsp;&nbsp;&nbsp;&nbsp; * List of essential reactions of the models.    \n",
    "    &nbsp;&nbsp;&nbsp;&nbsp; * Comparison of chokepoint reactions, essential reactions and essential gene reactions.    \n",
    "  - Summary comparing the size of the previous sets and their intersections.    \n",
    "  \n",
    "**Method declaration:** \n",
    "\n",
    "```run_summary_model(self, model_path, print_f, arg1, arg2, objective=None, fraction=1.0)```\n",
    "\n",
    "**Parameters:**    \n",
    "  - ```model_path```: Path of the SBML metabolic model file.    \n",
    "  - ```print_f```: Callback function to inform  of the computation progression. The function must have a declaration like the following:    \n",
    "    - ``` custom_function_name(message, arg1, arg2) ```    \n",
    "  - ```arg1```: First parameter to pass to the callback function if any.    \n",
    "  - ```arg2```: Second parameter to pass to the callback function if any.    \n",
    "  - ```objective```: Reactions id to be used as objective function.    \n",
    "  - ```fraction```: Fraction of optmimum to be used with FVA.   "
   ]
  },
  {
   "cell_type": "code",
   "execution_count": 36,
   "metadata": {},
   "outputs": [
    {
     "name": "stdout",
     "output_type": "stream",
     "text": [
      "LOG:Reading model...\n",
      "LOG:Generating models...\n",
      "LOG:Searching Dead End Metabolites (D.E.M.)...\n",
      "LOG:Searching chokepoint reactions...\n",
      "LOG:Searching essential reactions...\n",
      "LOG:Searching essential genes...\n",
      "LOG:Searching essential genes reactions...\n",
      "LOG:Removing Dead End Metabolites (D.E.M.)...\n",
      "LOG:Searching essential reactions...\n",
      "LOG:Searching new chokepoint reactions...\n",
      "LOG:Searching essential genes...\n",
      "LOG:Searching essential genes reactions...\n",
      "LOG:Running Flux Variability Analysis...\n",
      "LOG:Searching Dead End Metabolites (D.E.M.)...\n",
      "LOG:Searching new chokepoint reactions...\n",
      "LOG:Searching essential genes...\n",
      "LOG:Searching essential genes reactions...\n",
      "LOG:Searching essential reactions...\n",
      "LOG:Removing"
     ]
    },
    {
     "data": {
      "text/html": [
       "* * *"
      ]
     },
     "metadata": {},
     "output_type": "display_data"
    }
   ],
   "source": [
    "def callback_print_ignore(message, arg1, arg2):\n",
    "    pass\n",
    "\n",
    "def callback_print_logger(message, arg1, arg2):\n",
    "    logger = arg1\n",
    "    logger.info(message)\n",
    "    \n",
    "def callback_print(message, arg1, arg2):\n",
    "    print(arg1 + message)\n",
    "\n",
    "facadeUtils = FacadeUtils()\n",
    "spreadsheet = facadeUtils.run_summary_model(\"aureus.xml\", callback_print, \"LOG:\", None, fraction=0.95)\n",
    "facadeUtils.save_spreadsheet(\"output.xls\", spreadsheet)"
   ]
  },
  {
   "cell_type": "markdown",
   "metadata": {},
   "source": [
    "#### Generate growth-dependent reactions"
   ]
  },
  {
   "cell_type": "markdown",
   "metadata": {},
   "source": [
    "The method ```generate_growth_dependent_report``` of ```Facade``` computes and returns growth dependent reactions. \n",
    "\n",
    "The output can be saved in a spreadsheet file or html report. The resulting files include a report of the effect that varying values of optimal growth with FVA has on the folloing sets:\n",
    "  - Reversible Reactions (RR)\n",
    "  - Non-reversible Reactions (NR)\n",
    "  - Dead Reactions (DR)\n",
    "  - Chokepoint reactions (CP)"
   ]
  },
  {
   "cell_type": "markdown",
   "metadata": {},
   "source": [
    "**Methods declaration:**    \n",
    "   ```generate_growth_dependent_report(self, config)```\n",
    "\n",
    "**Parameters:**    \n",
    "  - ```config```: ```contrabass.core.utils.GrowthDependentCPConfig```   "
   ]
  },
  {
   "cell_type": "markdown",
   "metadata": {},
   "source": [
    "**class** ```contrabass.core.utils.GrowthDependentCPConfig```    \n",
    "  - ```model_path```: Path of the SBML metabolic model file.     \n",
    "  - ```print_f```: Callback function to inform of the computation     progression. The function must have a declaration like the following: ```custom_function_name(message, arg1, arg2)```    \n",
    "  - ```arg1```: First parameter to pass to the function if any.    \n",
    "  - ```arg2```: Second parameter to pass to the function if any.    \n",
    "  - ```objective```: Reactions id to be used as objective function.    \n",
    "  - ```fraction```: Fraction of optmimum to be used with FVA.  \n",
    "  - ```output_path_spreadsheet```: Output path to save spreadsheet report. If None no file is generated.    \n",
    "  - ```output_path_html```: Output path to save html report. If None no file is generated.   "
   ]
  },
  {
   "cell_type": "code",
   "execution_count": 37,
   "metadata": {},
   "outputs": [
    {
     "name": "stdout",
     "output_type": "stream",
     "text": [
      "Reading model...\n",
      "Computing essential reactions...\n",
      "Computing optimal growth essential reactions\n",
      "Computing growth dependent essential reactions\n",
      "Running Flux Variability Analysis with fraction: 0.0\n",
      "Running Flux Variability Analysis with fraction: 0.1\n",
      "Running Flux Variability Analysis with fraction: 0.2\n",
      "Running Flux Variability Analysis with fraction: 0.3\n",
      "Running Flux Variability Analysis with fraction: 0.4\n",
      "Running Flux Variability Analysis with fraction: 0.5\n",
      "Running Flux Variability Analysis with fraction: 0.6\n",
      "Running Flux Variability Analysis with fraction: 0.7\n",
      "Running Flux Variability Analysis with fraction: 0.8\n",
      "Running Flux Variability Analysis with fraction: 0.9\n",
      "Running Flux Variability Ana"
     ]
    },
    {
     "data": {
      "text/html": [
       "* * *"
      ]
     },
     "metadata": {},
     "output_type": "display_data"
    }
   ],
   "source": [
    "# import config class\n",
    "from contrabass.core.utils.GrowthDependentCPConfig import GrowthDependentCPConfig\n",
    "\n",
    "\n",
    "def callback_print(message, arg1, arg2):\n",
    "    print(message)\n",
    "\n",
    "config = GrowthDependentCPConfig()\n",
    "config.print_f                 = callback_print\n",
    "config.model_path              = \"aureus.xml\"\n",
    "config.output_path_spreadsheet = \"output.xls\"\n",
    "config.output_path_html        = \"report.html\"\n",
    "\n",
    "facade = Facade()\n",
    "facade.generate_growth_dependent_report(config)"
   ]
  },
  {
   "cell_type": "code",
   "execution_count": null,
   "metadata": {},
   "outputs": [],
   "source": []
  }
 ],
 "metadata": {
  "kernelspec": {
   "display_name": "Python 3",
   "language": "python",
   "name": "python3"
  },
  "language_info": {
   "codemirror_mode": {
    "name": "ipython",
    "version": 3
   },
   "file_extension": ".py",
   "mimetype": "text/x-python",
   "name": "python",
   "nbconvert_exporter": "python",
   "pygments_lexer": "ipython3",
   "version": "3.7.12"
  }
 },
 "nbformat": 4,
 "nbformat_minor": 2
}
